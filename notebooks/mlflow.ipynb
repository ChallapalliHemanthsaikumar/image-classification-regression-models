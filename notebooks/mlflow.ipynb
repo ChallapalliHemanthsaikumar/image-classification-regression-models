{
 "cells": [
  {
   "cell_type": "code",
   "execution_count": 1,
   "id": "ae2d27b7",
   "metadata": {},
   "outputs": [
    {
     "name": "stdout",
     "output_type": "stream",
     "text": [
      "Requirement already satisfied: mlflow-skinny in c:\\users\\kavitha padala\\appdata\\local\\programs\\python\\python311\\lib\\site-packages (2.20.1)\n",
      "Collecting ray[serve]\n",
      "  Downloading ray-2.48.0-cp311-cp311-win_amd64.whl.metadata (20 kB)\n",
      "Requirement already satisfied: cachetools<6,>=5.0.0 in c:\\users\\kavitha padala\\appdata\\local\\programs\\python\\python311\\lib\\site-packages (from mlflow-skinny) (5.5.0)\n",
      "Requirement already satisfied: click<9,>=7.0 in c:\\users\\kavitha padala\\appdata\\local\\programs\\python\\python311\\lib\\site-packages (from mlflow-skinny) (8.1.7)\n",
      "Requirement already satisfied: cloudpickle<4 in c:\\users\\kavitha padala\\appdata\\local\\programs\\python\\python311\\lib\\site-packages (from mlflow-skinny) (3.1.1)\n",
      "Requirement already satisfied: databricks-sdk<1,>=0.20.0 in c:\\users\\kavitha padala\\appdata\\local\\programs\\python\\python311\\lib\\site-packages (from mlflow-skinny) (0.42.0)\n",
      "Requirement already satisfied: gitpython<4,>=3.1.9 in c:\\users\\kavitha padala\\appdata\\local\\programs\\python\\python311\\lib\\site-packages (from mlflow-skinny) (3.1.43)\n",
      "Requirement already satisfied: importlib_metadata!=4.7.0,<9,>=3.7.0 in c:\\users\\kavitha padala\\appdata\\local\\programs\\python\\python311\\lib\\site-packages (from mlflow-skinny) (8.5.0)\n",
      "Requirement already satisfied: opentelemetry-api<3,>=1.9.0 in c:\\users\\kavitha padala\\appdata\\local\\programs\\python\\python311\\lib\\site-packages (from mlflow-skinny) (1.28.0)\n",
      "Requirement already satisfied: opentelemetry-sdk<3,>=1.9.0 in c:\\users\\kavitha padala\\appdata\\local\\programs\\python\\python311\\lib\\site-packages (from mlflow-skinny) (1.28.0)\n",
      "Requirement already satisfied: packaging<25 in c:\\users\\kavitha padala\\appdata\\local\\programs\\python\\python311\\lib\\site-packages (from mlflow-skinny) (24.2)\n",
      "Requirement already satisfied: protobuf<6,>=3.12.0 in c:\\users\\kavitha padala\\appdata\\local\\programs\\python\\python311\\lib\\site-packages (from mlflow-skinny) (5.28.3)\n",
      "Requirement already satisfied: pydantic<3,>=1.0 in c:\\users\\kavitha padala\\appdata\\local\\programs\\python\\python311\\lib\\site-packages (from mlflow-skinny) (2.1.1)\n",
      "Requirement already satisfied: pyyaml<7,>=5.1 in c:\\users\\kavitha padala\\appdata\\local\\programs\\python\\python311\\lib\\site-packages (from mlflow-skinny) (6.0.2)\n",
      "Requirement already satisfied: requests<3,>=2.17.3 in c:\\users\\kavitha padala\\appdata\\local\\programs\\python\\python311\\lib\\site-packages (from mlflow-skinny) (2.32.3)\n",
      "Requirement already satisfied: sqlparse<1,>=0.4.0 in c:\\users\\kavitha padala\\appdata\\local\\programs\\python\\python311\\lib\\site-packages (from mlflow-skinny) (0.5.3)\n",
      "Requirement already satisfied: typing-extensions<5,>=4.0.0 in c:\\users\\kavitha padala\\appdata\\roaming\\python\\python311\\site-packages (from mlflow-skinny) (4.12.2)\n",
      "Requirement already satisfied: filelock in c:\\users\\kavitha padala\\appdata\\local\\programs\\python\\python311\\lib\\site-packages (from ray[serve]) (3.16.1)\n",
      "Requirement already satisfied: jsonschema in c:\\users\\kavitha padala\\appdata\\local\\programs\\python\\python311\\lib\\site-packages (from ray[serve]) (4.23.0)\n",
      "Requirement already satisfied: msgpack<2.0.0,>=1.0.0 in c:\\users\\kavitha padala\\appdata\\local\\programs\\python\\python311\\lib\\site-packages (from ray[serve]) (1.0.8)\n",
      "Requirement already satisfied: smart_open in c:\\users\\kavitha padala\\appdata\\local\\programs\\python\\python311\\lib\\site-packages (from ray[serve]) (7.0.5)\n",
      "Collecting colorful (from ray[serve])\n",
      "  Downloading colorful-0.5.7-py2.py3-none-any.whl.metadata (16 kB)\n",
      "Requirement already satisfied: watchfiles in c:\\users\\kavitha padala\\appdata\\local\\programs\\python\\python311\\lib\\site-packages (from ray[serve]) (1.0.0)\n",
      "Requirement already satisfied: starlette in c:\\users\\kavitha padala\\appdata\\local\\programs\\python\\python311\\lib\\site-packages (from ray[serve]) (0.37.2)\n",
      "Collecting opentelemetry-sdk<3,>=1.9.0 (from mlflow-skinny)\n",
      "  Downloading opentelemetry_sdk-1.36.0-py3-none-any.whl.metadata (1.5 kB)\n",
      "Collecting py-spy>=0.2.0 (from ray[serve])\n",
      "  Downloading py_spy-0.4.1-py2.py3-none-win_amd64.whl.metadata (510 bytes)\n",
      "Requirement already satisfied: aiohttp>=3.7 in c:\\users\\kavitha padala\\appdata\\local\\programs\\python\\python311\\lib\\site-packages (from ray[serve]) (3.11.11)\n",
      "Requirement already satisfied: prometheus_client>=0.7.1 in c:\\users\\kavitha padala\\appdata\\local\\programs\\python\\python311\\lib\\site-packages (from ray[serve]) (0.21.0)\n",
      "Requirement already satisfied: opentelemetry-proto in c:\\users\\kavitha padala\\appdata\\local\\programs\\python\\python311\\lib\\site-packages (from ray[serve]) (1.28.0)\n",
      "Collecting opentelemetry-exporter-prometheus (from ray[serve])\n",
      "  Downloading opentelemetry_exporter_prometheus-0.57b0-py3-none-any.whl.metadata (1.8 kB)\n",
      "Collecting pydantic<3,>=1.0 (from mlflow-skinny)\n",
      "  Using cached pydantic-2.11.7-py3-none-any.whl.metadata (67 kB)\n",
      "Collecting aiohttp_cors (from ray[serve])\n",
      "  Downloading aiohttp_cors-0.8.1-py3-none-any.whl.metadata (20 kB)\n",
      "Requirement already satisfied: uvicorn[standard] in c:\\users\\kavitha padala\\appdata\\local\\programs\\python\\python311\\lib\\site-packages (from ray[serve]) (0.30.6)\n",
      "Requirement already satisfied: virtualenv!=20.21.1,>=20.0.24 in c:\\users\\kavitha padala\\appdata\\local\\programs\\python\\python311\\lib\\site-packages (from ray[serve]) (20.29.1)\n",
      "Requirement already satisfied: fastapi in c:\\users\\kavitha padala\\appdata\\local\\programs\\python\\python311\\lib\\site-packages (from ray[serve]) (0.111.1)\n",
      "Requirement already satisfied: grpcio>=1.42.0 in c:\\users\\kavitha padala\\appdata\\local\\programs\\python\\python311\\lib\\site-packages (from ray[serve]) (1.68.0)\n",
      "Requirement already satisfied: opencensus in c:\\users\\kavitha padala\\appdata\\local\\programs\\python\\python311\\lib\\site-packages (from ray[serve]) (0.11.4)\n",
      "Requirement already satisfied: aiohappyeyeballs>=2.3.0 in c:\\users\\kavitha padala\\appdata\\local\\programs\\python\\python311\\lib\\site-packages (from aiohttp>=3.7->ray[serve]) (2.4.4)\n",
      "Requirement already satisfied: aiosignal>=1.1.2 in c:\\users\\kavitha padala\\appdata\\local\\programs\\python\\python311\\lib\\site-packages (from aiohttp>=3.7->ray[serve]) (1.3.1)\n",
      "Requirement already satisfied: attrs>=17.3.0 in c:\\users\\kavitha padala\\appdata\\local\\programs\\python\\python311\\lib\\site-packages (from aiohttp>=3.7->ray[serve]) (24.2.0)\n",
      "Requirement already satisfied: frozenlist>=1.1.1 in c:\\users\\kavitha padala\\appdata\\local\\programs\\python\\python311\\lib\\site-packages (from aiohttp>=3.7->ray[serve]) (1.4.1)\n",
      "Requirement already satisfied: multidict<7.0,>=4.5 in c:\\users\\kavitha padala\\appdata\\local\\programs\\python\\python311\\lib\\site-packages (from aiohttp>=3.7->ray[serve]) (6.0.5)\n",
      "Requirement already satisfied: propcache>=0.2.0 in c:\\users\\kavitha padala\\appdata\\local\\programs\\python\\python311\\lib\\site-packages (from aiohttp>=3.7->ray[serve]) (0.2.1)\n",
      "Requirement already satisfied: yarl<2.0,>=1.17.0 in c:\\users\\kavitha padala\\appdata\\local\\programs\\python\\python311\\lib\\site-packages (from aiohttp>=3.7->ray[serve]) (1.18.3)\n",
      "Requirement already satisfied: colorama in c:\\users\\kavitha padala\\appdata\\local\\programs\\python\\python311\\lib\\site-packages (from click<9,>=7.0->mlflow-skinny) (0.4.6)\n",
      "Requirement already satisfied: google-auth~=2.0 in c:\\users\\kavitha padala\\appdata\\local\\programs\\python\\python311\\lib\\site-packages (from databricks-sdk<1,>=0.20.0->mlflow-skinny) (2.23.4)\n",
      "Requirement already satisfied: gitdb<5,>=4.0.1 in c:\\users\\kavitha padala\\appdata\\local\\programs\\python\\python311\\lib\\site-packages (from gitpython<4,>=3.1.9->mlflow-skinny) (4.0.11)\n",
      "Requirement already satisfied: zipp>=3.20 in c:\\users\\kavitha padala\\appdata\\local\\programs\\python\\python311\\lib\\site-packages (from importlib_metadata!=4.7.0,<9,>=3.7.0->mlflow-skinny) (3.21.0)\n",
      "Requirement already satisfied: deprecated>=1.2.6 in c:\\users\\kavitha padala\\appdata\\local\\programs\\python\\python311\\lib\\site-packages (from opentelemetry-api<3,>=1.9.0->mlflow-skinny) (1.2.15)\n",
      "Collecting opentelemetry-api<3,>=1.9.0 (from mlflow-skinny)\n",
      "  Downloading opentelemetry_api-1.36.0-py3-none-any.whl.metadata (1.5 kB)\n",
      "Collecting opentelemetry-semantic-conventions==0.57b0 (from opentelemetry-sdk<3,>=1.9.0->mlflow-skinny)\n",
      "  Downloading opentelemetry_semantic_conventions-0.57b0-py3-none-any.whl.metadata (2.4 kB)\n",
      "Requirement already satisfied: annotated-types>=0.6.0 in c:\\users\\kavitha padala\\appdata\\local\\programs\\python\\python311\\lib\\site-packages (from pydantic<3,>=1.0->mlflow-skinny) (0.7.0)\n",
      "Collecting pydantic-core==2.33.2 (from pydantic<3,>=1.0->mlflow-skinny)\n",
      "  Using cached pydantic_core-2.33.2-cp311-cp311-win_amd64.whl.metadata (6.9 kB)\n",
      "Collecting typing-inspection>=0.4.0 (from pydantic<3,>=1.0->mlflow-skinny)\n",
      "  Using cached typing_inspection-0.4.1-py3-none-any.whl.metadata (2.6 kB)\n",
      "Requirement already satisfied: charset-normalizer<4,>=2 in c:\\users\\kavitha padala\\appdata\\local\\programs\\python\\python311\\lib\\site-packages (from requests<3,>=2.17.3->mlflow-skinny) (3.4.0)\n",
      "Requirement already satisfied: idna<4,>=2.5 in c:\\users\\kavitha padala\\appdata\\local\\programs\\python\\python311\\lib\\site-packages (from requests<3,>=2.17.3->mlflow-skinny) (3.10)\n",
      "Requirement already satisfied: urllib3<3,>=1.21.1 in c:\\users\\kavitha padala\\appdata\\local\\programs\\python\\python311\\lib\\site-packages (from requests<3,>=2.17.3->mlflow-skinny) (2.2.3)\n",
      "Requirement already satisfied: certifi>=2017.4.17 in c:\\users\\kavitha padala\\appdata\\local\\programs\\python\\python311\\lib\\site-packages (from requests<3,>=2.17.3->mlflow-skinny) (2024.8.30)\n",
      "Requirement already satisfied: distlib<1,>=0.3.7 in c:\\users\\kavitha padala\\appdata\\local\\programs\\python\\python311\\lib\\site-packages (from virtualenv!=20.21.1,>=20.0.24->ray[serve]) (0.3.9)\n",
      "Requirement already satisfied: platformdirs<5,>=3.9.1 in c:\\users\\kavitha padala\\appdata\\local\\programs\\python\\python311\\lib\\site-packages (from virtualenv!=20.21.1,>=20.0.24->ray[serve]) (4.3.6)\n",
      "Requirement already satisfied: fastapi-cli>=0.0.2 in c:\\users\\kavitha padala\\appdata\\roaming\\python\\python311\\site-packages (from fastapi->ray[serve]) (0.0.4)\n",
      "Requirement already satisfied: httpx>=0.23.0 in c:\\users\\kavitha padala\\appdata\\roaming\\python\\python311\\site-packages (from fastapi->ray[serve]) (0.28.1)\n",
      "Requirement already satisfied: jinja2>=2.11.2 in c:\\users\\kavitha padala\\appdata\\local\\programs\\python\\python311\\lib\\site-packages (from fastapi->ray[serve]) (3.1.4)\n",
      "Requirement already satisfied: python-multipart>=0.0.7 in c:\\users\\kavitha padala\\appdata\\roaming\\python\\python311\\site-packages (from fastapi->ray[serve]) (0.0.9)\n",
      "Requirement already satisfied: email_validator>=2.0.0 in c:\\users\\kavitha padala\\appdata\\roaming\\python\\python311\\site-packages (from fastapi->ray[serve]) (2.2.0)\n",
      "Requirement already satisfied: anyio<5,>=3.4.0 in c:\\users\\kavitha padala\\appdata\\local\\programs\\python\\python311\\lib\\site-packages (from starlette->ray[serve]) (4.6.2.post1)\n",
      "Requirement already satisfied: h11>=0.8 in c:\\users\\kavitha padala\\appdata\\roaming\\python\\python311\\site-packages (from uvicorn[standard]; extra == \"serve\"->ray[serve]) (0.14.0)\n",
      "Requirement already satisfied: httptools>=0.5.0 in c:\\users\\kavitha padala\\appdata\\local\\programs\\python\\python311\\lib\\site-packages (from uvicorn[standard]; extra == \"serve\"->ray[serve]) (0.6.4)\n",
      "Requirement already satisfied: python-dotenv>=0.13 in c:\\users\\kavitha padala\\appdata\\roaming\\python\\python311\\site-packages (from uvicorn[standard]; extra == \"serve\"->ray[serve]) (1.0.1)\n",
      "Requirement already satisfied: websockets>=10.4 in c:\\users\\kavitha padala\\appdata\\roaming\\python\\python311\\site-packages (from uvicorn[standard]; extra == \"serve\"->ray[serve]) (12.0)\n",
      "Requirement already satisfied: jsonschema-specifications>=2023.03.6 in c:\\users\\kavitha padala\\appdata\\local\\programs\\python\\python311\\lib\\site-packages (from jsonschema->ray[serve]) (2024.10.1)\n",
      "Requirement already satisfied: referencing>=0.28.4 in c:\\users\\kavitha padala\\appdata\\local\\programs\\python\\python311\\lib\\site-packages (from jsonschema->ray[serve]) (0.35.1)\n",
      "Requirement already satisfied: rpds-py>=0.7.1 in c:\\users\\kavitha padala\\appdata\\local\\programs\\python\\python311\\lib\\site-packages (from jsonschema->ray[serve]) (0.18.1)\n",
      "Requirement already satisfied: opencensus-context>=0.1.3 in c:\\users\\kavitha padala\\appdata\\local\\programs\\python\\python311\\lib\\site-packages (from opencensus->ray[serve]) (0.1.3)\n",
      "Requirement already satisfied: six~=1.16 in c:\\users\\kavitha padala\\appdata\\local\\programs\\python\\python311\\lib\\site-packages (from opencensus->ray[serve]) (1.16.0)\n",
      "Requirement already satisfied: google-api-core<3.0.0,>=1.0.0 in c:\\users\\kavitha padala\\appdata\\local\\programs\\python\\python311\\lib\\site-packages (from opencensus->ray[serve]) (2.19.2)\n",
      "Requirement already satisfied: wrapt in c:\\users\\kavitha padala\\appdata\\local\\programs\\python\\python311\\lib\\site-packages (from smart_open->ray[serve]) (1.17.0)\n",
      "Requirement already satisfied: sniffio>=1.1 in c:\\users\\kavitha padala\\appdata\\local\\programs\\python\\python311\\lib\\site-packages (from anyio<5,>=3.4.0->starlette->ray[serve]) (1.3.1)\n",
      "Requirement already satisfied: dnspython>=2.0.0 in c:\\users\\kavitha padala\\appdata\\roaming\\python\\python311\\site-packages (from email_validator>=2.0.0->fastapi->ray[serve]) (2.6.1)\n",
      "Requirement already satisfied: typer>=0.12.3 in c:\\users\\kavitha padala\\appdata\\local\\programs\\python\\python311\\lib\\site-packages (from fastapi-cli>=0.0.2->fastapi->ray[serve]) (0.13.1)\n",
      "Requirement already satisfied: smmap<6,>=3.0.1 in c:\\users\\kavitha padala\\appdata\\local\\programs\\python\\python311\\lib\\site-packages (from gitdb<5,>=4.0.1->gitpython<4,>=3.1.9->mlflow-skinny) (5.0.1)\n",
      "Requirement already satisfied: googleapis-common-protos<2.0.dev0,>=1.56.2 in c:\\users\\kavitha padala\\appdata\\local\\programs\\python\\python311\\lib\\site-packages (from google-api-core<3.0.0,>=1.0.0->opencensus->ray[serve]) (1.66.0)\n",
      "Requirement already satisfied: proto-plus<2.0.0dev,>=1.22.3 in c:\\users\\kavitha padala\\appdata\\local\\programs\\python\\python311\\lib\\site-packages (from google-api-core<3.0.0,>=1.0.0->opencensus->ray[serve]) (1.24.0)\n",
      "Requirement already satisfied: pyasn1-modules>=0.2.1 in c:\\users\\kavitha padala\\appdata\\local\\programs\\python\\python311\\lib\\site-packages (from google-auth~=2.0->databricks-sdk<1,>=0.20.0->mlflow-skinny) (0.4.1)\n",
      "Requirement already satisfied: rsa<5,>=3.1.4 in c:\\users\\kavitha padala\\appdata\\roaming\\python\\python311\\site-packages (from google-auth~=2.0->databricks-sdk<1,>=0.20.0->mlflow-skinny) (4.9)\n",
      "Requirement already satisfied: httpcore==1.* in c:\\users\\kavitha padala\\appdata\\roaming\\python\\python311\\site-packages (from httpx>=0.23.0->fastapi->ray[serve]) (1.0.7)\n",
      "Requirement already satisfied: MarkupSafe>=2.0 in c:\\users\\kavitha padala\\appdata\\local\\programs\\python\\python311\\lib\\site-packages (from jinja2>=2.11.2->fastapi->ray[serve]) (3.0.2)\n",
      "Requirement already satisfied: pyasn1<0.7.0,>=0.4.6 in c:\\users\\kavitha padala\\appdata\\local\\programs\\python\\python311\\lib\\site-packages (from pyasn1-modules>=0.2.1->google-auth~=2.0->databricks-sdk<1,>=0.20.0->mlflow-skinny) (0.6.1)\n",
      "Requirement already satisfied: shellingham>=1.3.0 in c:\\users\\kavitha padala\\appdata\\roaming\\python\\python311\\site-packages (from typer>=0.12.3->fastapi-cli>=0.0.2->fastapi->ray[serve]) (1.5.4)\n",
      "Requirement already satisfied: rich>=10.11.0 in c:\\users\\kavitha padala\\appdata\\local\\programs\\python\\python311\\lib\\site-packages (from typer>=0.12.3->fastapi-cli>=0.0.2->fastapi->ray[serve]) (13.9.4)\n",
      "Requirement already satisfied: markdown-it-py>=2.2.0 in c:\\users\\kavitha padala\\appdata\\local\\programs\\python\\python311\\lib\\site-packages (from rich>=10.11.0->typer>=0.12.3->fastapi-cli>=0.0.2->fastapi->ray[serve]) (3.0.0)\n",
      "Requirement already satisfied: pygments<3.0.0,>=2.13.0 in c:\\users\\kavitha padala\\appdata\\local\\programs\\python\\python311\\lib\\site-packages (from rich>=10.11.0->typer>=0.12.3->fastapi-cli>=0.0.2->fastapi->ray[serve]) (2.18.0)\n",
      "Requirement already satisfied: mdurl~=0.1 in c:\\users\\kavitha padala\\appdata\\local\\programs\\python\\python311\\lib\\site-packages (from markdown-it-py>=2.2.0->rich>=10.11.0->typer>=0.12.3->fastapi-cli>=0.0.2->fastapi->ray[serve]) (0.1.2)\n",
      "Downloading opentelemetry_sdk-1.36.0-py3-none-any.whl (119 kB)\n",
      "   ---------------------------------------- 0.0/120.0 kB ? eta -:--:--\n",
      "   ---------------------------------------- 120.0/120.0 kB 6.9 MB/s eta 0:00:00\n",
      "Downloading opentelemetry_api-1.36.0-py3-none-any.whl (65 kB)\n",
      "   ---------------------------------------- 0.0/65.6 kB ? eta -:--:--\n",
      "   ---------------------------------------- 65.6/65.6 kB 3.7 MB/s eta 0:00:00\n",
      "Downloading opentelemetry_semantic_conventions-0.57b0-py3-none-any.whl (201 kB)\n",
      "   ---------------------------------------- 0.0/201.6 kB ? eta -:--:--\n",
      "   --------------------------------------- 201.6/201.6 kB 12.0 MB/s eta 0:00:00\n",
      "Downloading py_spy-0.4.1-py2.py3-none-win_amd64.whl (1.8 MB)\n",
      "   ---------------------------------------- 0.0/1.8 MB ? eta -:--:--\n",
      "   -------- ------------------------------- 0.4/1.8 MB 7.6 MB/s eta 0:00:01\n",
      "   ------------------- -------------------- 0.9/1.8 MB 9.3 MB/s eta 0:00:01\n",
      "   ---------------------------------------  1.8/1.8 MB 12.8 MB/s eta 0:00:01\n",
      "   ---------------------------------------- 1.8/1.8 MB 12.8 MB/s eta 0:00:00\n",
      "Using cached pydantic-2.11.7-py3-none-any.whl (444 kB)\n",
      "Using cached pydantic_core-2.33.2-cp311-cp311-win_amd64.whl (2.0 MB)\n",
      "Downloading aiohttp_cors-0.8.1-py3-none-any.whl (25 kB)\n",
      "Downloading colorful-0.5.7-py2.py3-none-any.whl (201 kB)\n",
      "   ---------------------------------------- 0.0/201.5 kB ? eta -:--:--\n",
      "   ---------------------------------------- 201.5/201.5 kB ? eta 0:00:00\n",
      "Downloading opentelemetry_exporter_prometheus-0.57b0-py3-none-any.whl (12 kB)\n",
      "Downloading ray-2.48.0-cp311-cp311-win_amd64.whl (26.8 MB)\n",
      "   ---------------------------------------- 0.0/26.8 MB ? eta -:--:--\n",
      "   -- ------------------------------------- 1.3/26.8 MB 28.3 MB/s eta 0:00:01\n",
      "   --- ------------------------------------ 2.1/26.8 MB 33.5 MB/s eta 0:00:01\n",
      "   --- ------------------------------------ 2.1/26.8 MB 33.5 MB/s eta 0:00:01\n",
      "   --- ------------------------------------ 2.1/26.8 MB 33.5 MB/s eta 0:00:01\n",
      "   --- ------------------------------------ 2.1/26.8 MB 33.5 MB/s eta 0:00:01\n",
      "   --- ------------------------------------ 2.1/26.8 MB 33.5 MB/s eta 0:00:01\n",
      "   --- ------------------------------------ 2.1/26.8 MB 33.5 MB/s eta 0:00:01\n",
      "   --- ------------------------------------ 2.1/26.8 MB 33.5 MB/s eta 0:00:01\n",
      "   --- ------------------------------------ 2.1/26.8 MB 33.5 MB/s eta 0:00:01\n",
      "   ---- ----------------------------------- 2.8/26.8 MB 5.9 MB/s eta 0:00:05\n",
      "   ---- ----------------------------------- 3.1/26.8 MB 6.5 MB/s eta 0:00:04\n",
      "   ----- ---------------------------------- 3.9/26.8 MB 7.0 MB/s eta 0:00:04\n",
      "   --------- ------------------------------ 6.3/26.8 MB 10.3 MB/s eta 0:00:02\n",
      "   ---------- ----------------------------- 7.3/26.8 MB 11.7 MB/s eta 0:00:02\n",
      "   ----------- ---------------------------- 8.0/26.8 MB 11.3 MB/s eta 0:00:02\n",
      "   -------------- ------------------------- 9.4/26.8 MB 13.1 MB/s eta 0:00:02\n",
      "   --------------- ------------------------ 10.2/26.8 MB 12.8 MB/s eta 0:00:02\n",
      "   --------------- ------------------------ 10.5/26.8 MB 12.8 MB/s eta 0:00:02\n",
      "   ----------------- ---------------------- 11.5/26.8 MB 12.6 MB/s eta 0:00:02\n",
      "   ----------------- ---------------------- 11.7/26.8 MB 11.5 MB/s eta 0:00:02\n",
      "   ------------------ --------------------- 12.6/26.8 MB 20.5 MB/s eta 0:00:01\n",
      "   -------------------- ------------------- 13.4/26.8 MB 20.5 MB/s eta 0:00:01\n",
      "   -------------------- ------------------- 13.6/26.8 MB 21.1 MB/s eta 0:00:01\n",
      "   --------------------- ------------------ 14.7/26.8 MB 18.7 MB/s eta 0:00:01\n",
      "   --------------------- ------------------ 14.7/26.8 MB 18.7 MB/s eta 0:00:01\n",
      "   --------------------- ------------------ 14.7/26.8 MB 18.7 MB/s eta 0:00:01\n",
      "   ----------------------- ---------------- 15.7/26.8 MB 16.0 MB/s eta 0:00:01\n",
      "   ----------------------- ---------------- 16.0/26.8 MB 14.2 MB/s eta 0:00:01\n",
      "   ---------------------------- ----------- 18.9/26.8 MB 16.0 MB/s eta 0:00:01\n",
      "   ---------------------------- ----------- 18.9/26.8 MB 16.0 MB/s eta 0:00:01\n",
      "   ------------------------------- -------- 21.0/26.8 MB 17.3 MB/s eta 0:00:01\n",
      "   ------------------------------- -------- 21.1/26.8 MB 16.4 MB/s eta 0:00:01\n",
      "   ------------------------------------ --- 24.5/26.8 MB 23.4 MB/s eta 0:00:01\n",
      "   ---------------------------------------  26.8/26.8 MB 40.9 MB/s eta 0:00:01\n",
      "   ---------------------------------------- 26.8/26.8 MB 36.4 MB/s eta 0:00:00\n",
      "Using cached typing_inspection-0.4.1-py3-none-any.whl (14 kB)\n",
      "Installing collected packages: py-spy, typing-inspection, pydantic-core, colorful, pydantic, opentelemetry-api, opentelemetry-semantic-conventions, aiohttp_cors, ray, opentelemetry-sdk, opentelemetry-exporter-prometheus\n",
      "  Attempting uninstall: pydantic-core\n",
      "    Found existing installation: pydantic_core 2.4.0\n",
      "    Uninstalling pydantic_core-2.4.0:\n",
      "      Successfully uninstalled pydantic_core-2.4.0\n",
      "  Attempting uninstall: pydantic\n",
      "    Found existing installation: pydantic 2.1.1\n",
      "    Uninstalling pydantic-2.1.1:\n",
      "      Successfully uninstalled pydantic-2.1.1\n",
      "  Attempting uninstall: opentelemetry-api\n",
      "    Found existing installation: opentelemetry-api 1.28.0\n",
      "    Uninstalling opentelemetry-api-1.28.0:\n",
      "      Successfully uninstalled opentelemetry-api-1.28.0\n",
      "  Attempting uninstall: opentelemetry-semantic-conventions\n",
      "    Found existing installation: opentelemetry-semantic-conventions 0.49b0\n",
      "    Uninstalling opentelemetry-semantic-conventions-0.49b0:\n",
      "      Successfully uninstalled opentelemetry-semantic-conventions-0.49b0\n",
      "  Attempting uninstall: opentelemetry-sdk\n",
      "    Found existing installation: opentelemetry-sdk 1.28.0\n",
      "    Uninstalling opentelemetry-sdk-1.28.0:\n",
      "      Successfully uninstalled opentelemetry-sdk-1.28.0\n",
      "Successfully installed aiohttp_cors-0.8.1 colorful-0.5.7 opentelemetry-api-1.36.0 opentelemetry-exporter-prometheus-0.57b0 opentelemetry-sdk-1.36.0 opentelemetry-semantic-conventions-0.57b0 py-spy-0.4.1 pydantic-2.11.7 pydantic-core-2.33.2 ray-2.48.0 typing-inspection-0.4.1\n"
     ]
    },
    {
     "name": "stderr",
     "output_type": "stream",
     "text": [
      "  WARNING: Failed to remove contents in a temporary directory 'C:\\Users\\Kavitha padala\\AppData\\Local\\Programs\\Python\\Python311\\Lib\\site-packages\\~ydantic_core'.\n",
      "  You can safely remove it manually.\n",
      "ERROR: pip's dependency resolver does not currently take into account all the packages that are installed. This behaviour is the source of the following dependency conflicts.\n",
      "lightning 2.0.9 requires pydantic<2.2.0,>=1.7.4, but you have pydantic 2.11.7 which is incompatible.\n",
      "opentelemetry-exporter-otlp-proto-grpc 1.28.2 requires opentelemetry-exporter-otlp-proto-common==1.28.2, but you have opentelemetry-exporter-otlp-proto-common 1.28.0 which is incompatible.\n",
      "opentelemetry-exporter-otlp-proto-grpc 1.28.2 requires opentelemetry-proto==1.28.2, but you have opentelemetry-proto 1.28.0 which is incompatible.\n",
      "opentelemetry-exporter-otlp-proto-grpc 1.28.2 requires opentelemetry-sdk~=1.28.2, but you have opentelemetry-sdk 1.36.0 which is incompatible.\n",
      "opentelemetry-exporter-otlp-proto-http 1.28.0 requires opentelemetry-sdk~=1.28.0, but you have opentelemetry-sdk 1.36.0 which is incompatible.\n",
      "opentelemetry-instrumentation 0.49b0 requires opentelemetry-semantic-conventions==0.49b0, but you have opentelemetry-semantic-conventions 0.57b0 which is incompatible.\n",
      "opentelemetry-instrumentation-aiohttp-client 0.49b0 requires opentelemetry-semantic-conventions==0.49b0, but you have opentelemetry-semantic-conventions 0.57b0 which is incompatible.\n",
      "opentelemetry-instrumentation-asgi 0.49b0 requires opentelemetry-semantic-conventions==0.49b0, but you have opentelemetry-semantic-conventions 0.57b0 which is incompatible.\n",
      "opentelemetry-instrumentation-dbapi 0.49b0 requires opentelemetry-semantic-conventions==0.49b0, but you have opentelemetry-semantic-conventions 0.57b0 which is incompatible.\n",
      "opentelemetry-instrumentation-django 0.49b0 requires opentelemetry-semantic-conventions==0.49b0, but you have opentelemetry-semantic-conventions 0.57b0 which is incompatible.\n",
      "opentelemetry-instrumentation-fastapi 0.49b0 requires opentelemetry-semantic-conventions==0.49b0, but you have opentelemetry-semantic-conventions 0.57b0 which is incompatible.\n",
      "opentelemetry-instrumentation-flask 0.49b0 requires opentelemetry-semantic-conventions==0.49b0, but you have opentelemetry-semantic-conventions 0.57b0 which is incompatible.\n",
      "opentelemetry-instrumentation-openai 0.33.12 requires opentelemetry-semantic-conventions<0.50,>=0.49b0, but you have opentelemetry-semantic-conventions 0.57b0 which is incompatible.\n",
      "opentelemetry-instrumentation-requests 0.49b0 requires opentelemetry-semantic-conventions==0.49b0, but you have opentelemetry-semantic-conventions 0.57b0 which is incompatible.\n",
      "opentelemetry-instrumentation-sqlalchemy 0.49b0 requires opentelemetry-semantic-conventions==0.49b0, but you have opentelemetry-semantic-conventions 0.57b0 which is incompatible.\n",
      "opentelemetry-instrumentation-urllib 0.49b0 requires opentelemetry-semantic-conventions==0.49b0, but you have opentelemetry-semantic-conventions 0.57b0 which is incompatible.\n",
      "opentelemetry-instrumentation-urllib3 0.49b0 requires opentelemetry-semantic-conventions==0.49b0, but you have opentelemetry-semantic-conventions 0.57b0 which is incompatible.\n",
      "opentelemetry-instrumentation-wsgi 0.49b0 requires opentelemetry-semantic-conventions==0.49b0, but you have opentelemetry-semantic-conventions 0.57b0 which is incompatible.\n",
      "thinc 8.3.2 requires numpy<2.1.0,>=2.0.0; python_version >= \"3.9\", but you have numpy 1.26.4 which is incompatible.\n",
      "\n",
      "[notice] A new release of pip is available: 24.0 -> 25.2\n",
      "[notice] To update, run: python.exe -m pip install --upgrade pip\n"
     ]
    }
   ],
   "source": [
    "!pip install  \"mlflow-skinny\" \"ray[serve]\" "
   ]
  },
  {
   "cell_type": "code",
   "execution_count": null,
   "id": "08108e5d",
   "metadata": {},
   "outputs": [
    {
     "name": "stderr",
     "output_type": "stream",
     "text": [
      "c:\\Users\\Kavitha padala\\AppData\\Local\\Programs\\Python\\Python311\\Lib\\site-packages\\transformers\\utils\\generic.py:441: FutureWarning: `torch.utils._pytree._register_pytree_node` is deprecated. Please use `torch.utils._pytree.register_pytree_node` instead.\n",
      "  _torch_pytree._register_pytree_node(\n"
     ]
    },
    {
     "name": "stdout",
     "output_type": "stream",
     "text": [
      "WARNING:tensorflow:From c:\\Users\\Kavitha padala\\AppData\\Local\\Programs\\Python\\Python311\\Lib\\site-packages\\keras\\src\\losses.py:2976: The name tf.losses.sparse_softmax_cross_entropy is deprecated. Please use tf.compat.v1.losses.sparse_softmax_cross_entropy instead.\n",
      "\n"
     ]
    },
    {
     "name": "stderr",
     "output_type": "stream",
     "text": [
      "c:\\Users\\Kavitha padala\\AppData\\Local\\Programs\\Python\\Python311\\Lib\\site-packages\\transformers\\utils\\generic.py:309: FutureWarning: `torch.utils._pytree._register_pytree_node` is deprecated. Please use `torch.utils._pytree.register_pytree_node` instead.\n",
      "  _torch_pytree._register_pytree_node(\n",
      "c:\\Users\\Kavitha padala\\AppData\\Local\\Programs\\Python\\Python311\\Lib\\site-packages\\transformers\\utils\\generic.py:309: FutureWarning: `torch.utils._pytree._register_pytree_node` is deprecated. Please use `torch.utils._pytree.register_pytree_node` instead.\n",
      "  _torch_pytree._register_pytree_node(\n",
      "c:\\Users\\Kavitha padala\\AppData\\Local\\Programs\\Python\\Python311\\Lib\\site-packages\\mlflow\\pyfunc\\utils\\data_validation.py:134: UserWarning: \u001b[33mAdd type hints to the `predict` method to enable data validation and automatic signature inference during model logging. Check https://mlflow.org/docs/latest/model/python_model.html#type-hint-usage-in-pythonmodel for more details.\u001b[0m\n",
      "  color_warning(\n"
     ]
    },
    {
     "ename": "",
     "evalue": "",
     "output_type": "error",
     "traceback": [
      "\u001b[1;31mThe Kernel crashed while executing code in the current cell or a previous cell. \n",
      "\u001b[1;31mPlease review the code in the cell(s) to identify a possible cause of the failure. \n",
      "\u001b[1;31mClick <a href='https://aka.ms/vscodeJupyterKernelCrash'>here</a> for more info. \n",
      "\u001b[1;31mView Jupyter <a href='command:jupyter.viewOutput'>log</a> for further details."
     ]
    }
   ],
   "source": [
    "import mlflow\n",
    "from transformers import pipeline\n",
    "\n",
    "\n",
    "class MyTranslationModel(mlflow.pyfunc.PythonModel):\n",
    "    def load_context(self, context):\n",
    "        self.lang_from = context.model_config.get(\"lang_from\", \"en\")\n",
    "        self.lang_to = context.model_config.get(\"lang_to\", \"de\")\n",
    "\n",
    "        self.input_label: str = context.model_config.get(\"input_label\", \"prompt\")\n",
    "\n",
    "        self.model_ref: str = context.model_config.get(\"hfhub_name\", \"google-t5/t5-base\")\n",
    "\n",
    "        self.pipeline = pipeline(\n",
    "            f\"translation_{self.lang_from}_to_{self.lang_to}\",\n",
    "            self.model_ref,\n",
    "        )\n",
    "\n",
    "    def predict(self, context, model_input, params=None):\n",
    "        prompt = model_input[self.input_label].tolist()\n",
    "\n",
    "        return self.pipeline(prompt)"
   ]
  },
  {
   "cell_type": "code",
   "execution_count": null,
   "id": "84b83591",
   "metadata": {},
   "outputs": [
    {
     "name": "stderr",
     "output_type": "stream",
     "text": [
      "2025/08/20 08:17:08 INFO mlflow.pyfunc: Inferring model signature from input example\n",
      "c:\\Users\\Kavitha padala\\AppData\\Local\\Programs\\Python\\Python311\\Lib\\site-packages\\huggingface_hub\\file_download.py:797: FutureWarning: `resume_download` is deprecated and will be removed in version 1.0.0. Downloads always resume when possible. If you want to force a new download, use `force_download=True`.\n",
      "  warnings.warn(\n"
     ]
    },
    {
     "data": {
      "application/vnd.jupyter.widget-view+json": {
       "model_id": "92c8b147b53947e490c26fc7f45e9012",
       "version_major": 2,
       "version_minor": 0
      },
      "text/plain": [
       "config.json: 0.00B [00:00, ?B/s]"
      ]
     },
     "metadata": {},
     "output_type": "display_data"
    },
    {
     "name": "stderr",
     "output_type": "stream",
     "text": [
      "c:\\Users\\Kavitha padala\\AppData\\Local\\Programs\\Python\\Python311\\Lib\\site-packages\\huggingface_hub\\file_download.py:139: UserWarning: `huggingface_hub` cache-system uses symlinks by default to efficiently store duplicated files but your machine does not support them in C:\\Users\\Kavitha padala\\.cache\\huggingface\\hub\\models--google-t5--t5-base. Caching files will still work but in a degraded version that might require more space on your disk. This warning can be disabled by setting the `HF_HUB_DISABLE_SYMLINKS_WARNING` environment variable. For more details, see https://huggingface.co/docs/huggingface_hub/how-to-cache#limitations.\n",
      "To support symlinks on Windows, you either need to activate Developer Mode or to run Python as an administrator. In order to activate developer mode, see this article: https://docs.microsoft.com/en-us/windows/apps/get-started/enable-your-device-for-development\n",
      "  warnings.warn(message)\n",
      "c:\\Users\\Kavitha padala\\AppData\\Local\\Programs\\Python\\Python311\\Lib\\site-packages\\transformers\\utils\\generic.py:309: FutureWarning: `torch.utils._pytree._register_pytree_node` is deprecated. Please use `torch.utils._pytree.register_pytree_node` instead.\n",
      "  _torch_pytree._register_pytree_node(\n"
     ]
    },
    {
     "data": {
      "application/vnd.jupyter.widget-view+json": {
       "model_id": "f4230a6dba544bcdbdb7d69fd710a394",
       "version_major": 2,
       "version_minor": 0
      },
      "text/plain": [
       "model.safetensors:   0%|          | 0.00/892M [00:00<?, ?B/s]"
      ]
     },
     "metadata": {},
     "output_type": "display_data"
    }
   ],
   "source": [
    "import pandas as pd\n",
    "\n",
    "with mlflow.start_run():\n",
    "    model_info = mlflow.pyfunc.log_model(\n",
    "        \"translation_model\",\n",
    "        registered_model_name=\"translation_model\",\n",
    "        python_model=MyTranslationModel(),\n",
    "        pip_requirements=[\"transformers\"],\n",
    "        input_example=pd.DataFrame(\n",
    "            {\n",
    "                \"prompt\": [\"Hello my name is Jonathan.\"],\n",
    "            }\n",
    "        ),\n",
    "        model_config={\n",
    "            \"hfhub_name\": \"google-t5/t5-base\",\n",
    "            \"lang_from\": \"en\",\n",
    "            \"lang_to\": \"de\",\n",
    "        },\n",
    "    )"
   ]
  },
  {
   "cell_type": "code",
   "execution_count": null,
   "id": "81f57a94",
   "metadata": {},
   "outputs": [],
   "source": [
    "en_to_de_version: str = str(model_info.registered_model_version)"
   ]
  },
  {
   "cell_type": "code",
   "execution_count": null,
   "id": "0c77ae15",
   "metadata": {},
   "outputs": [],
   "source": [
    "print(model_info.signature)"
   ]
  },
  {
   "cell_type": "code",
   "execution_count": null,
   "id": "8ff9e238",
   "metadata": {},
   "outputs": [],
   "source": []
  }
 ],
 "metadata": {
  "kernelspec": {
   "display_name": "Python 3",
   "language": "python",
   "name": "python3"
  },
  "language_info": {
   "codemirror_mode": {
    "name": "ipython",
    "version": 3
   },
   "file_extension": ".py",
   "mimetype": "text/x-python",
   "name": "python",
   "nbconvert_exporter": "python",
   "pygments_lexer": "ipython3",
   "version": "3.11.9"
  }
 },
 "nbformat": 4,
 "nbformat_minor": 5
}
